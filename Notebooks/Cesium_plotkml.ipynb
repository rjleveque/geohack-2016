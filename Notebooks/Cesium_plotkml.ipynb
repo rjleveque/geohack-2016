{
 "cells": [
  {
   "cell_type": "markdown",
   "metadata": {},
   "source": [
    "# Cesium_plotkml\n",
    "\n",
    "Illustrates how to plot kml files on top of maps or imagery in Cesium.\n",
    "\n",
    "*Note:*  In specifying a kml file location, you must give the path relative to the directory where this notebook was launched, even if you used `cd` or use `os.chdir` to move to a different directory in the Jupyter kernel."
   ]
  },
  {
   "cell_type": "code",
   "execution_count": null,
   "metadata": {
    "collapsed": false
   },
   "outputs": [],
   "source": [
    "import cesiumpy  # install from https://pypi.python.org/pypi/cesiumpy"
   ]
  },
  {
   "cell_type": "code",
   "execution_count": null,
   "metadata": {
    "collapsed": false,
    "scrolled": false
   },
   "outputs": [],
   "source": [
    "v = cesiumpy.Viewer()\n",
    "\n",
    "v.dataSources.add(cesiumpy.KmlDataSource('../DataFiles/CrescentCityBox.kml'))\n",
    "v.dataSources.add(cesiumpy.KmlDataSource('../DataFiles/CrescentCityTransect.kml'))\n",
    "\n",
    "viewpoint = (-124.19, 41.74, 2e4)  # inital view (longitude, latitude, elevation) for Crescent City\n",
    "v.camera.flyTo(viewpoint)\n",
    "v"
   ]
  },
  {
   "cell_type": "markdown",
   "metadata": {},
   "source": [
    "## Create and load a png file\n",
    "\n",
    "The file `../PythonCode/testfig.kml` is created by `../PythonCode/make_testfig_kml.py`."
   ]
  },
  {
   "cell_type": "code",
   "execution_count": 32,
   "metadata": {
    "collapsed": false
   },
   "outputs": [],
   "source": [
    "run ../PythonCode/make_testfig_kml.py"
   ]
  },
  {
   "cell_type": "code",
   "execution_count": 33,
   "metadata": {
    "collapsed": false,
    "scrolled": true
   },
   "outputs": [],
   "source": [
    "v = cesiumpy.Viewer()\n",
    "\n",
    "kml_file = '../PythonCode/testfig.kml' \n",
    "\n",
    "v.dataSources.add(cesiumpy.KmlDataSource(kml_file))\n",
    "\n",
    "viewpoint = (-123, 47, 1e6)  # inital view (longitude, latitude, elevation)\n",
    "v.camera.flyTo(viewpoint)\n",
    "v"
   ]
  },
  {
   "cell_type": "markdown",
   "metadata": {},
   "source": [
    "## Flow between buildings\n",
    "\n",
    "The next cell shows a single frame from a test flooding problem (solving the shallow water equations using GeoClaw with topography that includes buildings).\n",
    "\n",
    "Note that it may be useful to switch from imagery to map background.  Click on the icon in the upper right corner corner between the sphere and the ?."
   ]
  },
  {
   "cell_type": "code",
   "execution_count": 34,
   "metadata": {
    "collapsed": false
   },
   "outputs": [],
   "source": [
    "v = cesiumpy.Viewer()\n",
    "\n",
    "kml_file = '../DataFiles/Aberdeen_frame23/doc.kml' \n",
    "\n",
    "v.dataSources.add(cesiumpy.KmlDataSource(kml_file))\n",
    "\n",
    "viewpoint = (-123.82, 46.967, 6000)  # inital view (longitude, latitude, elevation)\n",
    "v.camera.flyTo(viewpoint)\n",
    "v"
   ]
  },
  {
   "cell_type": "code",
   "execution_count": null,
   "metadata": {
    "collapsed": true
   },
   "outputs": [],
   "source": []
  }
 ],
 "metadata": {
  "kernelspec": {
   "display_name": "Python 2",
   "language": "python",
   "name": "python2"
  },
  "language_info": {
   "codemirror_mode": {
    "name": "ipython",
    "version": 2
   },
   "file_extension": ".py",
   "mimetype": "text/x-python",
   "name": "python",
   "nbconvert_exporter": "python",
   "pygments_lexer": "ipython2",
   "version": "2.7.11"
  },
  "widgets": {
   "state": {},
   "version": "1.1.2"
  }
 },
 "nbformat": 4,
 "nbformat_minor": 0
}
