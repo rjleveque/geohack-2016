{
 "cells": [
  {
   "cell_type": "markdown",
   "metadata": {},
   "source": [
    "# Cesium_plotkml\n",
    "\n",
    "Illustrates how to plot kml files on top of maps or imagery in Cesium."
   ]
  },
  {
   "cell_type": "code",
   "execution_count": null,
   "metadata": {
    "collapsed": false
   },
   "outputs": [],
   "source": [
    "import cesiumpy  # install from https://pypi.python.org/pypi/cesiumpy"
   ]
  },
  {
   "cell_type": "code",
   "execution_count": null,
   "metadata": {
    "collapsed": false,
    "scrolled": false
   },
   "outputs": [],
   "source": [
    "v = cesiumpy.Viewer()\n",
    "\n",
    "v.dataSources.add(cesiumpy.KmlDataSource('../DataFiles/CrescentCityBox.kml'))\n",
    "v.dataSources.add(cesiumpy.KmlDataSource('../DataFiles/CrescentCityTransect.kml'))\n",
    "\n",
    "viewpoint = (-124.19, 41.74, 2e4)  # inital view (longitude, latitude, elevation) for Crescent City\n",
    "v.camera.flyTo(viewpoint)\n",
    "v"
   ]
  },
  {
   "cell_type": "markdown",
   "metadata": {},
   "source": [
    "## Not working....\n",
    "\n",
    "The file `../PythonCode/testfig.kml` created by `../PythonCode/make_testfig_kml.py` makes a nice plot in Google Earth but does not seem to work with Cesium:"
   ]
  },
  {
   "cell_type": "code",
   "execution_count": null,
   "metadata": {
    "collapsed": false
   },
   "outputs": [],
   "source": [
    "run ../PythonCode/make_testfig_kml.py"
   ]
  },
  {
   "cell_type": "code",
   "execution_count": null,
   "metadata": {
    "collapsed": false
   },
   "outputs": [],
   "source": [
    "v = cesiumpy.Viewer()\n",
    "\n",
    "kml_file = '../PythonCode/testfig.kml' \n",
    "\n",
    "v.dataSources.add(cesiumpy.KmlDataSource(kml_file))\n",
    "\n",
    "viewpoint = (-123, 47, 1e7)  # inital view (longitude, latitude, elevation)\n",
    "v.camera.flyTo(viewpoint)\n",
    "v"
   ]
  },
  {
   "cell_type": "code",
   "execution_count": null,
   "metadata": {
    "collapsed": true
   },
   "outputs": [],
   "source": []
  }
 ],
 "metadata": {
  "kernelspec": {
   "display_name": "Python 2",
   "language": "python",
   "name": "python2"
  },
  "language_info": {
   "codemirror_mode": {
    "name": "ipython",
    "version": 2
   },
   "file_extension": ".py",
   "mimetype": "text/x-python",
   "name": "python",
   "nbconvert_exporter": "python",
   "pygments_lexer": "ipython2",
   "version": "2.7.11"
  },
  "widgets": {
   "state": {},
   "version": "1.1.2"
  }
 },
 "nbformat": 4,
 "nbformat_minor": 0
}
